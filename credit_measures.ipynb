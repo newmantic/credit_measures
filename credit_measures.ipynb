{
  "nbformat": 4,
  "nbformat_minor": 0,
  "metadata": {
    "colab": {
      "provenance": [],
      "authorship_tag": "ABX9TyOvNxmvgNZjwMXZGfdy3ZCD",
      "include_colab_link": true
    },
    "kernelspec": {
      "name": "python3",
      "display_name": "Python 3"
    },
    "language_info": {
      "name": "python"
    }
  },
  "cells": [
    {
      "cell_type": "markdown",
      "metadata": {
        "id": "view-in-github",
        "colab_type": "text"
      },
      "source": [
        "<a href=\"https://colab.research.google.com/github/newmantic/credit_measures/blob/main/credit_measures.ipynb\" target=\"_parent\"><img src=\"https://colab.research.google.com/assets/colab-badge.svg\" alt=\"Open In Colab\"/></a>"
      ]
    },
    {
      "cell_type": "code",
      "execution_count": 3,
      "metadata": {
        "colab": {
          "base_uri": "https://localhost:8080/"
        },
        "id": "57ujpQ4dTG32",
        "outputId": "04e0b9d1-c4a1-4dd6-89d7-33f45e8904de"
      },
      "outputs": [
        {
          "output_type": "stream",
          "name": "stdout",
          "text": [
            "Probability of Default (PD): 0.9994472213630764\n"
          ]
        }
      ],
      "source": [
        "\n",
        "import numpy as np\n",
        "\n",
        "\n",
        "def probability_of_default(credit_score):\n",
        "    return 1 / (1 + np.exp(-0.05 * (credit_score - 500)))\n",
        "\n",
        "credit_score = 650\n",
        "pd = probability_of_default(credit_score)\n",
        "print(\"Probability of Default (PD):\", pd)"
      ]
    },
    {
      "cell_type": "code",
      "source": [
        "def loss_given_default(recovery_rate):\n",
        "    return 1 - recovery_rate\n",
        "\n",
        "recovery_rate = 0.4\n",
        "lgd = loss_given_default(recovery_rate)\n",
        "print(\"Loss Given Default (LGD):\", lgd)"
      ],
      "metadata": {
        "colab": {
          "base_uri": "https://localhost:8080/"
        },
        "id": "cA2ZzaWHTlRB",
        "outputId": "20f53052-c0d3-45d5-e7b6-7389b8172fe3"
      },
      "execution_count": 4,
      "outputs": [
        {
          "output_type": "stream",
          "name": "stdout",
          "text": [
            "Loss Given Default (LGD): 0.6\n"
          ]
        }
      ]
    },
    {
      "cell_type": "code",
      "source": [
        "def exposure_at_default(current_balance, credit_limit, utilization_rate):\n",
        "    return current_balance + (credit_limit - current_balance) * utilization_rate\n",
        "\n",
        "current_balance = 50000\n",
        "credit_limit = 100000\n",
        "utilization_rate = 0.5\n",
        "ead = exposure_at_default(current_balance, credit_limit, utilization_rate)\n",
        "print(\"Exposure at Default (EAD):\", ead)"
      ],
      "metadata": {
        "colab": {
          "base_uri": "https://localhost:8080/"
        },
        "id": "2hQparBlT8a0",
        "outputId": "fd5870ab-fc50-4160-afc8-210be1360423"
      },
      "execution_count": 5,
      "outputs": [
        {
          "output_type": "stream",
          "name": "stdout",
          "text": [
            "Exposure at Default (EAD): 75000.0\n"
          ]
        }
      ]
    },
    {
      "cell_type": "code",
      "source": [
        "def credit_var(ead, pd, lgd, confidence_level=0.99):\n",
        "    z = np.percentile(np.random.normal(0, 1, 1000), confidence_level * 100)\n",
        "    return ead * lgd * (pd + z * np.sqrt(pd * (1 - pd)))\n",
        "\n",
        "credit_var_value = credit_var(ead, pd, lgd)\n",
        "print(\"Credit Value at Risk (Credit VaR):\", credit_var_value)"
      ],
      "metadata": {
        "colab": {
          "base_uri": "https://localhost:8080/"
        },
        "id": "Vau7fPFIT_7E",
        "outputId": "821607bc-6a8f-4a04-9ed3-0b1647d85722"
      },
      "execution_count": 6,
      "outputs": [
        {
          "output_type": "stream",
          "name": "stdout",
          "text": [
            "Credit Value at Risk (Credit VaR): 47483.25612131831\n"
          ]
        }
      ]
    },
    {
      "cell_type": "code",
      "source": [
        "def expected_loss(ead, pd, lgd):\n",
        "    return ead * pd * lgd\n",
        "\n",
        "el = expected_loss(ead, pd, lgd)\n",
        "print(\"Expected Loss (EL):\", el)"
      ],
      "metadata": {
        "colab": {
          "base_uri": "https://localhost:8080/"
        },
        "id": "qs7P3neAUDJp",
        "outputId": "146feb2e-3cc8-4280-cf9d-fa49acd3a2a6"
      },
      "execution_count": 7,
      "outputs": [
        {
          "output_type": "stream",
          "name": "stdout",
          "text": [
            "Expected Loss (EL): 44975.124961338435\n"
          ]
        }
      ]
    },
    {
      "cell_type": "code",
      "source": [
        "def credit_spread(bond_yield, risk_free_rate):\n",
        "    return bond_yield - risk_free_rate\n",
        "\n",
        "bond_yield = 0.07\n",
        "risk_free_rate = 0.03\n",
        "spread = credit_spread(bond_yield, risk_free_rate)\n",
        "print(\"Credit Spread:\", spread)"
      ],
      "metadata": {
        "colab": {
          "base_uri": "https://localhost:8080/"
        },
        "id": "o329wHSzUHYl",
        "outputId": "3fc82cd6-47f9-4079-a628-1e12f7fc4de3"
      },
      "execution_count": 8,
      "outputs": [
        {
          "output_type": "stream",
          "name": "stdout",
          "text": [
            "Credit Spread: 0.04000000000000001\n"
          ]
        }
      ]
    },
    {
      "cell_type": "code",
      "source": [
        "def debt_to_income_ratio(monthly_debt_payments, monthly_income):\n",
        "    return monthly_debt_payments / monthly_income\n",
        "\n",
        "monthly_debt_payments = 1500\n",
        "monthly_income = 5000\n",
        "dti = debt_to_income_ratio(monthly_debt_payments, monthly_income)\n",
        "print(\"Debt-to-Income Ratio (DTI):\", dti)"
      ],
      "metadata": {
        "colab": {
          "base_uri": "https://localhost:8080/"
        },
        "id": "siy5a468UIOR",
        "outputId": "9840cbd5-b708-4e07-e623-893e2f1b1169"
      },
      "execution_count": 9,
      "outputs": [
        {
          "output_type": "stream",
          "name": "stdout",
          "text": [
            "Debt-to-Income Ratio (DTI): 0.3\n"
          ]
        }
      ]
    },
    {
      "cell_type": "code",
      "source": [
        "def interest_coverage_ratio(ebit, interest_expense):\n",
        "    return ebit / interest_expense\n",
        "\n",
        "ebit = 100000\n",
        "interest_expense = 20000\n",
        "icr = interest_coverage_ratio(ebit, interest_expense)\n",
        "print(\"Interest Coverage Ratio (ICR):\", icr)"
      ],
      "metadata": {
        "colab": {
          "base_uri": "https://localhost:8080/"
        },
        "id": "1qGGMeltUK9B",
        "outputId": "7a4b1ea0-4934-40a7-85e3-930fd656b584"
      },
      "execution_count": 10,
      "outputs": [
        {
          "output_type": "stream",
          "name": "stdout",
          "text": [
            "Interest Coverage Ratio (ICR): 5.0\n"
          ]
        }
      ]
    },
    {
      "cell_type": "code",
      "source": [
        "def loan_to_value_ratio(loan_amount, asset_value):\n",
        "    return loan_amount / asset_value\n",
        "\n",
        "loan_amount = 200000\n",
        "asset_value = 250000\n",
        "ltv = loan_to_value_ratio(loan_amount, asset_value)\n",
        "print(\"Loan-to-Value Ratio (LTV):\", ltv)"
      ],
      "metadata": {
        "colab": {
          "base_uri": "https://localhost:8080/"
        },
        "id": "sCDYpMu1UNxp",
        "outputId": "e76f81b8-8f0a-4bc2-8b7e-2f083310415e"
      },
      "execution_count": 11,
      "outputs": [
        {
          "output_type": "stream",
          "name": "stdout",
          "text": [
            "Loan-to-Value Ratio (LTV): 0.8\n"
          ]
        }
      ]
    },
    {
      "cell_type": "code",
      "source": [
        "def debt_service_coverage_ratio(net_operating_income, total_debt_service):\n",
        "    return net_operating_income / total_debt_service\n",
        "\n",
        "net_operating_income = 120000\n",
        "total_debt_service = 100000\n",
        "dscr = debt_service_coverage_ratio(net_operating_income, total_debt_service)\n",
        "print(\"Debt Service Coverage Ratio (DSCR):\", dscr)\n"
      ],
      "metadata": {
        "colab": {
          "base_uri": "https://localhost:8080/"
        },
        "id": "3h7XzjGAUQhN",
        "outputId": "ab9bd2b9-9456-4509-d467-bf6bf706b3ae"
      },
      "execution_count": 12,
      "outputs": [
        {
          "output_type": "stream",
          "name": "stdout",
          "text": [
            "Debt Service Coverage Ratio (DSCR): 1.2\n"
          ]
        }
      ]
    },
    {
      "cell_type": "code",
      "source": [
        "def z_score(working_capital, retained_earnings, ebit, market_value_equity, total_assets, sales):\n",
        "    return 1.2 * (working_capital / total_assets) + 1.4 * (retained_earnings / total_assets) + 3.3 * (ebit / total_assets) + 0.6 * (market_value_equity / total_assets) + 1.0 * (sales / total_assets)\n",
        "\n",
        "z = z_score(50000, 200000, 100000, 300000, 500000, 600000)\n",
        "print(\"Z-Score:\", z)"
      ],
      "metadata": {
        "colab": {
          "base_uri": "https://localhost:8080/"
        },
        "id": "Z4ctQsZYUS9q",
        "outputId": "2e645f08-21fb-4c7c-e337-aad1e220346b"
      },
      "execution_count": 13,
      "outputs": [
        {
          "output_type": "stream",
          "name": "stdout",
          "text": [
            "Z-Score: 2.8999999999999995\n"
          ]
        }
      ]
    },
    {
      "cell_type": "code",
      "source": [
        "def fico_score(payment_history, amounts_owed, length_of_credit_history, new_credit, credit_mix):\n",
        "    return (0.35 * payment_history + 0.30 * amounts_owed + 0.15 * length_of_credit_history + 0.10 * new_credit + 0.10 * credit_mix) * 850\n",
        "\n",
        "fico = fico_score(0.95, 0.80, 0.70, 0.50, 0.60)\n",
        "print(\"FICO Score:\", fico)\n"
      ],
      "metadata": {
        "colab": {
          "base_uri": "https://localhost:8080/"
        },
        "id": "zz_OYhSXUVqC",
        "outputId": "3b6aa991-123a-4c8f-a056-c0862282ecd1"
      },
      "execution_count": 14,
      "outputs": [
        {
          "output_type": "stream",
          "name": "stdout",
          "text": [
            "FICO Score: 669.3750000000001\n"
          ]
        }
      ]
    },
    {
      "cell_type": "code",
      "source": [
        "def altman_z_score(working_capital, retained_earnings, ebit, market_value_equity, total_assets, sales):\n",
        "    return 1.2 * (working_capital / total_assets) + 1.4 * (retained_earnings / total_assets) + 3.3 * (ebit / total_assets) + 0.6 * (market_value_equity / total_assets) + 1.0 * (sales / total_assets)\n",
        "\n",
        "altman_z = altman_z_score(50000, 200000, 100000, 300000, 500000, 600000)\n",
        "print(\"Altman Z-Score:\", altman_z)"
      ],
      "metadata": {
        "colab": {
          "base_uri": "https://localhost:8080/"
        },
        "id": "jmedeNmlUYGu",
        "outputId": "da5ca7e4-6e8b-4456-eced-6d39e3cbd379"
      },
      "execution_count": 15,
      "outputs": [
        {
          "output_type": "stream",
          "name": "stdout",
          "text": [
            "Altman Z-Score: 2.8999999999999995\n"
          ]
        }
      ]
    },
    {
      "cell_type": "code",
      "source": [
        "def interest_rate_spread(loan_rate, deposit_rate):\n",
        "    return loan_rate - deposit_rate\n",
        "\n",
        "loan_rate = 0.08\n",
        "deposit_rate = 0.03\n",
        "spread = interest_rate_spread(loan_rate, deposit_rate)\n",
        "print(\"Interest Rate Spread:\", spread)"
      ],
      "metadata": {
        "colab": {
          "base_uri": "https://localhost:8080/"
        },
        "id": "FSEAIu_BUbUi",
        "outputId": "d760aa3a-af30-4108-e803-efe4077f0ac4"
      },
      "execution_count": 16,
      "outputs": [
        {
          "output_type": "stream",
          "name": "stdout",
          "text": [
            "Interest Rate Spread: 0.05\n"
          ]
        }
      ]
    },
    {
      "cell_type": "code",
      "source": [
        "def capital_adequacy_ratio(tier1_capital, tier2_capital, risk_weighted_assets):\n",
        "    return (tier1_capital + tier2_capital) / risk_weighted_assets\n",
        "\n",
        "tier1_capital = 200000\n",
        "tier2_capital = 100000\n",
        "risk_weighted_assets = 1000000\n",
        "car = capital_adequacy_ratio(tier1_capital, tier2_capital, risk_weighted_assets)\n",
        "print(\"Capital Adequacy Ratio (CAR):\", car)"
      ],
      "metadata": {
        "colab": {
          "base_uri": "https://localhost:8080/"
        },
        "id": "Wbc09WRAUeFm",
        "outputId": "e809fb26-aa47-4050-e4e8-f4184988e3c5"
      },
      "execution_count": 17,
      "outputs": [
        {
          "output_type": "stream",
          "name": "stdout",
          "text": [
            "Capital Adequacy Ratio (CAR): 0.3\n"
          ]
        }
      ]
    },
    {
      "cell_type": "code",
      "source": [
        "def credit_utilization_ratio(credit_used, credit_limit):\n",
        "    return credit_used / credit_limit\n",
        "\n",
        "credit_used = 5000\n",
        "credit_limit = 10000\n",
        "utilization_ratio = credit_utilization_ratio(credit_used, credit_limit)\n",
        "print(\"Credit Utilization Ratio:\", utilization_ratio)"
      ],
      "metadata": {
        "colab": {
          "base_uri": "https://localhost:8080/"
        },
        "id": "gXjSRe5dUgud",
        "outputId": "cff77b0f-ed93-4cf8-998e-b6b2fe8325d2"
      },
      "execution_count": 18,
      "outputs": [
        {
          "output_type": "stream",
          "name": "stdout",
          "text": [
            "Credit Utilization Ratio: 0.5\n"
          ]
        }
      ]
    },
    {
      "cell_type": "code",
      "source": [
        "def debt_yield(ebit, loan_amount):\n",
        "    return ebit / loan_amount\n",
        "\n",
        "ebit = 120000\n",
        "loan_amount = 1000000\n",
        "yield_value = debt_yield(ebit, loan_amount)\n",
        "print(\"Debt Yield:\", yield_value)"
      ],
      "metadata": {
        "colab": {
          "base_uri": "https://localhost:8080/"
        },
        "id": "kfK7Tjr_UjLq",
        "outputId": "14374a92-ddc4-42a0-dd86-3b65a03cb88e"
      },
      "execution_count": 19,
      "outputs": [
        {
          "output_type": "stream",
          "name": "stdout",
          "text": [
            "Debt Yield: 0.12\n"
          ]
        }
      ]
    },
    {
      "cell_type": "code",
      "source": [
        "def debt_to_equity_ratio(total_liabilities, shareholder_equity):\n",
        "    return total_liabilities / shareholder_equity\n",
        "\n",
        "total_liabilities = 400000\n",
        "shareholder_equity = 300000\n",
        "de_ratio = debt_to_equity_ratio(total_liabilities, shareholder_equity)\n",
        "print(\"Debt-to-Equity Ratio (D/E):\", de_ratio)"
      ],
      "metadata": {
        "colab": {
          "base_uri": "https://localhost:8080/"
        },
        "id": "RwGhNpH0Ul_f",
        "outputId": "6c807f1b-d745-4184-823a-1d47eb6a599c"
      },
      "execution_count": 20,
      "outputs": [
        {
          "output_type": "stream",
          "name": "stdout",
          "text": [
            "Debt-to-Equity Ratio (D/E): 1.3333333333333333\n"
          ]
        }
      ]
    },
    {
      "cell_type": "code",
      "source": [
        "def covenant_lite_loans_percentage(covenant_lite_loans, total_loans):\n",
        "    return covenant_lite_loans / total_loans\n",
        "\n",
        "covenant_lite_loans = 200000\n",
        "total_loans = 1000000\n",
        "covenant_lite_percentage = covenant_lite_loans_percentage(covenant_lite_loans, total_loans)\n",
        "print(\"Covenant Lite Loans Percentage:\", covenant_lite_percentage)"
      ],
      "metadata": {
        "colab": {
          "base_uri": "https://localhost:8080/"
        },
        "id": "kWv1zvDzUoot",
        "outputId": "a95f6d72-5186-493e-ac59-3ca0dc23e843"
      },
      "execution_count": 21,
      "outputs": [
        {
          "output_type": "stream",
          "name": "stdout",
          "text": [
            "Covenant Lite Loans Percentage: 0.2\n"
          ]
        }
      ]
    },
    {
      "cell_type": "code",
      "source": [
        "\n",
        "def current_ratio(current_assets, current_liabilities):\n",
        "    return current_assets / current_liabilities\n",
        "\n",
        "current_assets = 300000\n",
        "current_liabilities = 200000\n",
        "cr = current_ratio(current_assets, current_liabilities)\n",
        "print(\"Current Ratio:\", cr)"
      ],
      "metadata": {
        "colab": {
          "base_uri": "https://localhost:8080/"
        },
        "id": "pbwPgoA7UyFU",
        "outputId": "cb98fc63-8c81-4f52-ee88-c02ba9136942"
      },
      "execution_count": 22,
      "outputs": [
        {
          "output_type": "stream",
          "name": "stdout",
          "text": [
            "Current Ratio: 1.5\n"
          ]
        }
      ]
    },
    {
      "cell_type": "code",
      "source": [
        "def quick_ratio(current_assets, inventory, current_liabilities):\n",
        "    return (current_assets - inventory) / current_liabilities\n",
        "\n",
        "inventory = 50000\n",
        "qr = quick_ratio(current_assets, inventory, current_liabilities)\n",
        "print(\"Quick Ratio:\", qr)"
      ],
      "metadata": {
        "colab": {
          "base_uri": "https://localhost:8080/"
        },
        "id": "ur_pKorDU45T",
        "outputId": "b90ed7b3-e515-4b7a-ec6a-ad3ad54e6f09"
      },
      "execution_count": 23,
      "outputs": [
        {
          "output_type": "stream",
          "name": "stdout",
          "text": [
            "Quick Ratio: 1.25\n"
          ]
        }
      ]
    },
    {
      "cell_type": "code",
      "source": [
        "def cash_ratio(cash, current_liabilities):\n",
        "    return cash / current_liabilities\n",
        "\n",
        "cash = 100000\n",
        "cash_ratio_value = cash_ratio(cash, current_liabilities)\n",
        "print(\"Cash Ratio:\", cash_ratio_value)\n"
      ],
      "metadata": {
        "colab": {
          "base_uri": "https://localhost:8080/"
        },
        "id": "z-8CX7lXU7ys",
        "outputId": "879b0d49-fdb3-4b23-c81b-1756ee37aa8c"
      },
      "execution_count": 24,
      "outputs": [
        {
          "output_type": "stream",
          "name": "stdout",
          "text": [
            "Cash Ratio: 0.5\n"
          ]
        }
      ]
    },
    {
      "cell_type": "code",
      "source": [
        "def operating_cash_flow_to_debt_ratio(operating_cash_flow, total_debt):\n",
        "    return operating_cash_flow / total_debt\n",
        "\n",
        "operating_cash_flow = 150000\n",
        "total_debt = 500000\n",
        "ocf_to_debt_ratio = operating_cash_flow_to_debt_ratio(operating_cash_flow, total_debt)\n",
        "print(\"Operating Cash Flow to Debt Ratio:\", ocf_to_debt_ratio)\n"
      ],
      "metadata": {
        "colab": {
          "base_uri": "https://localhost:8080/"
        },
        "id": "LdDF4Pr0U9__",
        "outputId": "3eb5895c-f1c5-470a-b8f1-b75946440933"
      },
      "execution_count": 25,
      "outputs": [
        {
          "output_type": "stream",
          "name": "stdout",
          "text": [
            "Operating Cash Flow to Debt Ratio: 0.3\n"
          ]
        }
      ]
    },
    {
      "cell_type": "code",
      "source": [
        "def free_cash_flow_yield(free_cash_flow, market_value_of_equity):\n",
        "    return free_cash_flow / market_value_of_equity\n",
        "\n",
        "free_cash_flow = 200000\n",
        "market_value_of_equity = 1000000\n",
        "fcf_yield = free_cash_flow_yield(free_cash_flow, market_value_of_equity)\n",
        "print(\"Free Cash Flow Yield:\", fcf_yield)"
      ],
      "metadata": {
        "colab": {
          "base_uri": "https://localhost:8080/"
        },
        "id": "zfMVooGlVA7f",
        "outputId": "774de4d8-a3a1-41c7-a1bd-78d88429ee33"
      },
      "execution_count": 26,
      "outputs": [
        {
          "output_type": "stream",
          "name": "stdout",
          "text": [
            "Free Cash Flow Yield: 0.2\n"
          ]
        }
      ]
    },
    {
      "cell_type": "code",
      "source": [
        "def net_debt_to_ebitda(total_debt, cash, ebitda):\n",
        "    return (total_debt - cash) / ebitda\n",
        "\n",
        "ebitda = 250000\n",
        "net_debt_to_ebitda_value = net_debt_to_ebitda(total_debt, cash, ebitda)\n",
        "print(\"Net Debt to EBITDA:\", net_debt_to_ebitda_value)\n"
      ],
      "metadata": {
        "colab": {
          "base_uri": "https://localhost:8080/"
        },
        "id": "mjYb5CjSVDmf",
        "outputId": "795bf648-aef6-400e-e61d-06270cce18b3"
      },
      "execution_count": 27,
      "outputs": [
        {
          "output_type": "stream",
          "name": "stdout",
          "text": [
            "Net Debt to EBITDA: 1.6\n"
          ]
        }
      ]
    },
    {
      "cell_type": "code",
      "source": [
        "def debt_to_asset_ratio(total_debt, total_assets):\n",
        "    return total_debt / total_assets\n",
        "\n",
        "total_assets = 1200000\n",
        "debt_to_asset = debt_to_asset_ratio(total_debt, total_assets)\n",
        "print(\"Debt-to-Asset Ratio:\", debt_to_asset)"
      ],
      "metadata": {
        "colab": {
          "base_uri": "https://localhost:8080/"
        },
        "id": "PC7AwxXkVHvw",
        "outputId": "791c455e-4996-4944-fd25-ff7961e39f4b"
      },
      "execution_count": 28,
      "outputs": [
        {
          "output_type": "stream",
          "name": "stdout",
          "text": [
            "Debt-to-Asset Ratio: 0.4166666666666667\n"
          ]
        }
      ]
    },
    {
      "cell_type": "code",
      "source": [
        "def fixed_charge_coverage_ratio(ebit, fixed_charges):\n",
        "    return (ebit + fixed_charges) / fixed_charges\n",
        "\n",
        "fixed_charges = 30000\n",
        "fccr = fixed_charge_coverage_ratio(ebit, fixed_charges)\n",
        "print(\"Fixed Charge Coverage Ratio (FCCR):\", fccr)"
      ],
      "metadata": {
        "colab": {
          "base_uri": "https://localhost:8080/"
        },
        "id": "Je252iR-VJs_",
        "outputId": "8bb86244-d148-44f0-eb76-b9f62aa7ef33"
      },
      "execution_count": 29,
      "outputs": [
        {
          "output_type": "stream",
          "name": "stdout",
          "text": [
            "Fixed Charge Coverage Ratio (FCCR): 5.0\n"
          ]
        }
      ]
    },
    {
      "cell_type": "code",
      "source": [
        "def asset_coverage_ratio(total_assets, intangible_assets, total_liabilities):\n",
        "    return (total_assets - intangible_assets) / total_liabilities\n",
        "\n",
        "intangible_assets = 200000\n",
        "asset_coverage = asset_coverage_ratio(total_assets, intangible_assets, total_liabilities)\n",
        "print(\"Asset Coverage Ratio:\", asset_coverage)"
      ],
      "metadata": {
        "colab": {
          "base_uri": "https://localhost:8080/"
        },
        "id": "wTxFdjMbVMGR",
        "outputId": "183f567b-daa4-4bf3-ea89-030005fbb700"
      },
      "execution_count": 30,
      "outputs": [
        {
          "output_type": "stream",
          "name": "stdout",
          "text": [
            "Asset Coverage Ratio: 2.5\n"
          ]
        }
      ]
    },
    {
      "cell_type": "code",
      "source": [
        "def gross_debt_service_ratio(mortgage_payments, property_taxes, gross_income):\n",
        "    return (mortgage_payments + property_taxes) / gross_income\n",
        "\n",
        "mortgage_payments = 1500\n",
        "property_taxes = 300\n",
        "gross_income = 5000\n",
        "gdsr = gross_debt_service_ratio(mortgage_payments, property_taxes, gross_income)\n",
        "print(\"Gross Debt Service Ratio (GDSR):\", gdsr)"
      ],
      "metadata": {
        "colab": {
          "base_uri": "https://localhost:8080/"
        },
        "id": "Jxc01XbOVPKr",
        "outputId": "2bed6fba-758d-48e0-c31d-36943973043b"
      },
      "execution_count": 31,
      "outputs": [
        {
          "output_type": "stream",
          "name": "stdout",
          "text": [
            "Gross Debt Service Ratio (GDSR): 0.36\n"
          ]
        }
      ]
    },
    {
      "cell_type": "code",
      "source": [
        "def total_debt_service_ratio(total_debt_payments, gross_income):\n",
        "    return total_debt_payments / gross_income\n",
        "\n",
        "total_debt_payments = 2000\n",
        "tdsr = total_debt_service_ratio(total_debt_payments, gross_income)\n",
        "print(\"Total Debt Service Ratio (TDSR):\", tdsr)"
      ],
      "metadata": {
        "colab": {
          "base_uri": "https://localhost:8080/"
        },
        "id": "zFn5t3BFVRbq",
        "outputId": "2fef0065-1448-4e87-c1de-dedd68827528"
      },
      "execution_count": 32,
      "outputs": [
        {
          "output_type": "stream",
          "name": "stdout",
          "text": [
            "Total Debt Service Ratio (TDSR): 0.4\n"
          ]
        }
      ]
    },
    {
      "cell_type": "code",
      "source": [
        "def interest_burden_ratio(ebit, interest_expense):\n",
        "    return ebit / (ebit + interest_expense)\n",
        "\n",
        "interest_burden = interest_burden_ratio(ebit, interest_expense)\n",
        "print(\"Interest Burden Ratio:\", interest_burden)"
      ],
      "metadata": {
        "colab": {
          "base_uri": "https://localhost:8080/"
        },
        "id": "zzZ1k04YVUGD",
        "outputId": "4ab6c2f2-ec88-4794-d918-5cb38021a6fe"
      },
      "execution_count": 33,
      "outputs": [
        {
          "output_type": "stream",
          "name": "stdout",
          "text": [
            "Interest Burden Ratio: 0.8571428571428571\n"
          ]
        }
      ]
    },
    {
      "cell_type": "code",
      "source": [
        "def return_on_capital_employed(ebit, capital_employed):\n",
        "    return ebit / capital_employed\n",
        "\n",
        "capital_employed = total_assets - current_liabilities\n",
        "roce = return_on_capital_employed(ebit, capital_employed)\n",
        "print(\"Return on Capital Employed (ROCE):\", roce)"
      ],
      "metadata": {
        "colab": {
          "base_uri": "https://localhost:8080/"
        },
        "id": "BHEwosQQVWa7",
        "outputId": "73cfd7c0-c8a2-4a4c-ce78-bb71ca88facb"
      },
      "execution_count": 34,
      "outputs": [
        {
          "output_type": "stream",
          "name": "stdout",
          "text": [
            "Return on Capital Employed (ROCE): 0.12\n"
          ]
        }
      ]
    },
    {
      "cell_type": "code",
      "source": [
        "def altman_z_prime_score(working_capital, retained_earnings, ebit, book_value_of_equity, total_assets, sales):\n",
        "    return 0.717 * (working_capital / total_assets) + 0.847 * (retained_earnings / total_assets) + 3.107 * (ebit / total_assets) + 0.420 * (book_value_of_equity / total_liabilities) + 0.998 * (sales / total_assets)\n",
        "\n",
        "# Example\n",
        "z_prime = altman_z_prime_score(50000, 200000, 100000, 300000, 500000, 600000)\n",
        "print(\"Altman Z-Prime Score:\", z_prime)"
      ],
      "metadata": {
        "colab": {
          "base_uri": "https://localhost:8080/"
        },
        "id": "s70czk-yVZba",
        "outputId": "a1ad47da-5fde-489a-83e7-07c924d55a4f"
      },
      "execution_count": 35,
      "outputs": [
        {
          "output_type": "stream",
          "name": "stdout",
          "text": [
            "Altman Z-Prime Score: 2.5445\n"
          ]
        }
      ]
    },
    {
      "cell_type": "code",
      "source": [
        "def debt_repayment_ratio(annual_debt_payments, annual_income):\n",
        "    return annual_debt_payments / annual_income\n",
        "\n",
        "# Example\n",
        "annual_debt_payments = 24000\n",
        "annual_income = 60000\n",
        "repayment_ratio = debt_repayment_ratio(annual_debt_payments, annual_income)\n",
        "print(\"Debt Repayment Ratio:\", repayment_ratio)"
      ],
      "metadata": {
        "colab": {
          "base_uri": "https://localhost:8080/"
        },
        "id": "NmP_oue8Vh5k",
        "outputId": "187b2ed5-4125-43c6-ccc7-2dafac859b28"
      },
      "execution_count": 36,
      "outputs": [
        {
          "output_type": "stream",
          "name": "stdout",
          "text": [
            "Debt Repayment Ratio: 0.4\n"
          ]
        }
      ]
    },
    {
      "cell_type": "code",
      "source": [
        "def interest_coverage_earnings_based(net_income, interest_expense):\n",
        "    return net_income / interest_expense\n",
        "\n",
        "# Example\n",
        "net_income = 80000\n",
        "icr_earnings_based = interest_coverage_earnings_based(net_income, interest_expense)\n",
        "print(\"Interest Coverage Ratio (Earnings-Based):\", icr_earnings_based)"
      ],
      "metadata": {
        "colab": {
          "base_uri": "https://localhost:8080/"
        },
        "id": "aHa_CKEGVkrn",
        "outputId": "ded817ed-7802-4a38-9850-291b34690819"
      },
      "execution_count": 37,
      "outputs": [
        {
          "output_type": "stream",
          "name": "stdout",
          "text": [
            "Interest Coverage Ratio (Earnings-Based): 4.0\n"
          ]
        }
      ]
    },
    {
      "cell_type": "code",
      "source": [
        "def debt_to_capital_ratio(total_debt, total_equity):\n",
        "    return total_debt / (total_debt + total_equity)\n",
        "\n",
        "# Example\n",
        "total_equity = 600000\n",
        "debt_to_capital = debt_to_capital_ratio(total_debt, total_equity)\n",
        "print(\"Debt-to-Capital Ratio:\", debt_to_capital)"
      ],
      "metadata": {
        "colab": {
          "base_uri": "https://localhost:8080/"
        },
        "id": "SHDkfO8XVna6",
        "outputId": "19fbb6a7-6269-43d6-96a6-280cc31cb5ed"
      },
      "execution_count": 38,
      "outputs": [
        {
          "output_type": "stream",
          "name": "stdout",
          "text": [
            "Debt-to-Capital Ratio: 0.45454545454545453\n"
          ]
        }
      ]
    },
    {
      "cell_type": "code",
      "source": [
        "def operating_margin(ebit, revenue):\n",
        "    return ebit / revenue\n",
        "\n",
        "# Example\n",
        "revenue = 800000\n",
        "op_margin = operating_margin(ebit, revenue)\n",
        "print(\"Operating Margin:\", op_margin)"
      ],
      "metadata": {
        "colab": {
          "base_uri": "https://localhost:8080/"
        },
        "id": "MEtsngxNVqFI",
        "outputId": "df80ce80-76fb-4a88-d250-0e83ec24f2f6"
      },
      "execution_count": 39,
      "outputs": [
        {
          "output_type": "stream",
          "name": "stdout",
          "text": [
            "Operating Margin: 0.15\n"
          ]
        }
      ]
    },
    {
      "cell_type": "code",
      "source": [
        "def cash_flow_to_debt_ratio(cash_flow_from_operations, total_debt):\n",
        "    return cash_flow_from_operations / total_debt\n",
        "\n",
        "# Example\n",
        "cash_flow_from_operations = 180000\n",
        "cf_to_debt_ratio = cash_flow_to_debt_ratio(cash_flow_from_operations, total_debt)\n",
        "print(\"Cash Flow to Debt Ratio:\", cf_to_debt_ratio)"
      ],
      "metadata": {
        "colab": {
          "base_uri": "https://localhost:8080/"
        },
        "id": "IzPL1Q9RVsvT",
        "outputId": "0e0a53e1-aee0-4647-e06a-9a362ed92066"
      },
      "execution_count": 40,
      "outputs": [
        {
          "output_type": "stream",
          "name": "stdout",
          "text": [
            "Cash Flow to Debt Ratio: 0.36\n"
          ]
        }
      ]
    },
    {
      "cell_type": "code",
      "source": [
        "def leverage_ratio(total_assets, total_equity):\n",
        "    return total_assets / total_equity\n",
        "\n",
        "# Example\n",
        "leverage = leverage_ratio(total_assets, total_equity)\n",
        "print(\"Leverage Ratio:\", leverage)"
      ],
      "metadata": {
        "colab": {
          "base_uri": "https://localhost:8080/"
        },
        "id": "5W3bJD3QV-5A",
        "outputId": "f9e33fae-4ba9-477f-d7e6-81bdf44b4cfe"
      },
      "execution_count": 41,
      "outputs": [
        {
          "output_type": "stream",
          "name": "stdout",
          "text": [
            "Leverage Ratio: 2.0\n"
          ]
        }
      ]
    },
    {
      "cell_type": "code",
      "source": [
        "def dividend_coverage_ratio(net_income, dividends_paid):\n",
        "    return net_income / dividends_paid\n",
        "\n",
        "# Example\n",
        "dividends_paid = 40000\n",
        "div_coverage = dividend_coverage_ratio(net_income, dividends_paid)\n",
        "print(\"Dividend Coverage Ratio:\", div_coverage)"
      ],
      "metadata": {
        "colab": {
          "base_uri": "https://localhost:8080/"
        },
        "id": "6J-ItKiwWMKt",
        "outputId": "06f43434-d829-4d98-a507-5170e1be539b"
      },
      "execution_count": 42,
      "outputs": [
        {
          "output_type": "stream",
          "name": "stdout",
          "text": [
            "Dividend Coverage Ratio: 2.0\n"
          ]
        }
      ]
    },
    {
      "cell_type": "code",
      "source": [
        "def loan_loss_provision_ratio(loan_loss_provisions, total_loans):\n",
        "    return loan_loss_provisions / total_loans\n",
        "\n",
        "# Example\n",
        "loan_loss_provisions = 15000\n",
        "llp_ratio = loan_loss_provision_ratio(loan_loss_provisions, total_loans)\n",
        "print(\"Loan Loss Provision Ratio:\", llp_ratio)"
      ],
      "metadata": {
        "colab": {
          "base_uri": "https://localhost:8080/"
        },
        "id": "pXtzdwXXWOzW",
        "outputId": "63265711-3bfd-42a0-b2fb-1de675213f05"
      },
      "execution_count": 43,
      "outputs": [
        {
          "output_type": "stream",
          "name": "stdout",
          "text": [
            "Loan Loss Provision Ratio: 0.015\n"
          ]
        }
      ]
    },
    {
      "cell_type": "code",
      "source": [
        "def reserves_to_loans_ratio(reserves, total_loans):\n",
        "    return reserves / total_loans\n",
        "\n",
        "# Example\n",
        "reserves = 50000\n",
        "reserves_to_loans = reserves_to_loans_ratio(reserves, total_loans)\n",
        "print(\"Reserves to Loans Ratio:\", reserves_to_loans)"
      ],
      "metadata": {
        "colab": {
          "base_uri": "https://localhost:8080/"
        },
        "id": "Kx5Xag8BWRxN",
        "outputId": "0a7da21e-4444-4b95-bc08-ac514bedc15b"
      },
      "execution_count": 44,
      "outputs": [
        {
          "output_type": "stream",
          "name": "stdout",
          "text": [
            "Reserves to Loans Ratio: 0.05\n"
          ]
        }
      ]
    },
    {
      "cell_type": "code",
      "source": [
        "def non_performing_loan_ratio(non_performing_loans, total_loans):\n",
        "    return non_performing_loans / total_loans\n",
        "\n",
        "# Example\n",
        "non_performing_loans = 25000\n",
        "npl_ratio = non_performing_loan_ratio(non_performing_loans, total_loans)\n",
        "print(\"Non-Performing Loan Ratio:\", npl_ratio)"
      ],
      "metadata": {
        "colab": {
          "base_uri": "https://localhost:8080/"
        },
        "id": "dQERD8xhWWJs",
        "outputId": "43db6e3d-5272-482b-c95f-ed15369468b8"
      },
      "execution_count": 45,
      "outputs": [
        {
          "output_type": "stream",
          "name": "stdout",
          "text": [
            "Non-Performing Loan Ratio: 0.025\n"
          ]
        }
      ]
    },
    {
      "cell_type": "code",
      "source": [
        "def cost_of_debt(interest_expense, total_debt):\n",
        "    return interest_expense / total_debt\n",
        "\n",
        "# Example\n",
        "cod = cost_of_debt(interest_expense, total_debt)\n",
        "print(\"Cost of Debt:\", cod)"
      ],
      "metadata": {
        "colab": {
          "base_uri": "https://localhost:8080/"
        },
        "id": "BOmiWTjyWZ5R",
        "outputId": "a6153b0e-25ad-4a4d-e4d6-72d533540ba0"
      },
      "execution_count": 46,
      "outputs": [
        {
          "output_type": "stream",
          "name": "stdout",
          "text": [
            "Cost of Debt: 0.04\n"
          ]
        }
      ]
    },
    {
      "cell_type": "code",
      "source": [
        "def days_sales_outstanding(accounts_receivable, total_credit_sales, days=365):\n",
        "    return (accounts_receivable / total_credit_sales) * days\n",
        "\n",
        "# Example\n",
        "accounts_receivable = 100000\n",
        "total_credit_sales = 800000\n",
        "dso = days_sales_outstanding(accounts_receivable, total_credit_sales)\n",
        "print(\"Days Sales Outstanding (DSO):\", dso)"
      ],
      "metadata": {
        "colab": {
          "base_uri": "https://localhost:8080/"
        },
        "id": "rSkK-zCMWce1",
        "outputId": "c69a523a-8129-4092-ba0b-114c2aa537c4"
      },
      "execution_count": 47,
      "outputs": [
        {
          "output_type": "stream",
          "name": "stdout",
          "text": [
            "Days Sales Outstanding (DSO): 45.625\n"
          ]
        }
      ]
    },
    {
      "cell_type": "code",
      "source": [
        "def days_payable_outstanding(accounts_payable, cost_of_goods_sold, days=365):\n",
        "    return (accounts_payable / cost_of_goods_sold) * days\n",
        "\n",
        "# Example\n",
        "accounts_payable = 75000\n",
        "cost_of_goods_sold = 500000\n",
        "dpo = days_payable_outstanding(accounts_payable, cost_of_goods_sold)\n",
        "print(\"Days Payable Outstanding (DPO):\", dpo)"
      ],
      "metadata": {
        "colab": {
          "base_uri": "https://localhost:8080/"
        },
        "id": "7oOY7HqpWhrU",
        "outputId": "7dbb6113-a402-423e-ef61-30a55149ab45"
      },
      "execution_count": 48,
      "outputs": [
        {
          "output_type": "stream",
          "name": "stdout",
          "text": [
            "Days Payable Outstanding (DPO): 54.75\n"
          ]
        }
      ]
    },
    {
      "cell_type": "code",
      "source": [
        "def days_inventory_outstanding(inventory, cost_of_goods_sold, days=365):\n",
        "    return (inventory / cost_of_goods_sold) * days\n",
        "\n",
        "# Example\n",
        "inventory = 60000\n",
        "dio = days_inventory_outstanding(inventory, cost_of_goods_sold)\n",
        "print(\"Days Inventory Outstanding (DIO):\", dio)"
      ],
      "metadata": {
        "colab": {
          "base_uri": "https://localhost:8080/"
        },
        "id": "zuJOwNFDWl3k",
        "outputId": "70c17406-06a9-4cee-ebe5-7e0f1531bb67"
      },
      "execution_count": 49,
      "outputs": [
        {
          "output_type": "stream",
          "name": "stdout",
          "text": [
            "Days Inventory Outstanding (DIO): 43.8\n"
          ]
        }
      ]
    },
    {
      "cell_type": "code",
      "source": [
        "def current_liabilities_to_net_worth(current_liabilities, net_worth):\n",
        "    return current_liabilities / net_worth\n",
        "\n",
        "# Example\n",
        "net_worth = 700000\n",
        "cl_to_net_worth = current_liabilities_to_net_worth(current_liabilities, net_worth)\n",
        "print(\"Current Liabilities to Net Worth Ratio:\", cl_to_net_worth)"
      ],
      "metadata": {
        "colab": {
          "base_uri": "https://localhost:8080/"
        },
        "id": "jXlojBcjWpIW",
        "outputId": "092e00f6-db3e-4485-c6b7-0da296f01048"
      },
      "execution_count": 50,
      "outputs": [
        {
          "output_type": "stream",
          "name": "stdout",
          "text": [
            "Current Liabilities to Net Worth Ratio: 0.2857142857142857\n"
          ]
        }
      ]
    },
    {
      "cell_type": "code",
      "source": [
        "def net_profit_margin(net_income, revenue):\n",
        "    return net_income / revenue\n",
        "\n",
        "# Example\n",
        "net_profit_margin_value = net_profit_margin(net_income, revenue)\n",
        "print(\"Net Profit Margin:\", net_profit_margin_value)"
      ],
      "metadata": {
        "colab": {
          "base_uri": "https://localhost:8080/"
        },
        "id": "mvmNcqcmWxxV",
        "outputId": "2f7d34ac-b233-4c7a-c758-970bb503f1e4"
      },
      "execution_count": 51,
      "outputs": [
        {
          "output_type": "stream",
          "name": "stdout",
          "text": [
            "Net Profit Margin: 0.1\n"
          ]
        }
      ]
    },
    {
      "cell_type": "code",
      "source": [
        "def cash_conversion_cycle(dso, dio, dpo):\n",
        "    return dso + dio - dpo\n",
        "\n",
        "# Example\n",
        "ccc = cash_conversion_cycle(dso, dio, dpo)\n",
        "print(\"Cash Conversion Cycle (CCC):\", ccc)"
      ],
      "metadata": {
        "colab": {
          "base_uri": "https://localhost:8080/"
        },
        "id": "XumyOMhXW0qu",
        "outputId": "e2962c58-0349-4ed6-d929-dc22eb691540"
      },
      "execution_count": 52,
      "outputs": [
        {
          "output_type": "stream",
          "name": "stdout",
          "text": [
            "Cash Conversion Cycle (CCC): 34.675\n"
          ]
        }
      ]
    }
  ]
}